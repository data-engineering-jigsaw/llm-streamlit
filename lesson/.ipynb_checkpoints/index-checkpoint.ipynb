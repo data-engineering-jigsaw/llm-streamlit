{
 "cells": [
  {
   "cell_type": "markdown",
   "id": "0c9cda92-4add-48dd-9a19-30a0b29a4a27",
   "metadata": {},
   "source": [
    "# Building an LLM Chatbot"
   ]
  },
  {
   "cell_type": "markdown",
   "id": "5770d413-da6d-413f-a959-e49170f1aa70",
   "metadata": {},
   "source": [
    "### Introduction"
   ]
  },
  {
   "cell_type": "markdown",
   "id": "8f6621ed-2f3b-4408-9ec5-39735f8c1fa8",
   "metadata": {},
   "source": [
    "In this lesson, we'll walk through integrating llamaindex with streamlit, let's get started."
   ]
  },
  {
   "cell_type": "markdown",
   "id": "3de679ef-3bf8-4b46-86bd-fa0871560ff6",
   "metadata": {},
   "source": [
    "### Setting it up"
   ]
  },
  {
   "cell_type": "markdown",
   "id": "e42acdca-7097-4806-b950-fefef725002e",
   "metadata": {},
   "source": [
    "We can begin by creating a new python environment."
   ]
  },
  {
   "cell_type": "markdown",
   "id": "882f8893-65ff-4454-8130-05a20c936f1f",
   "metadata": {},
   "source": [
    "```bash\n",
    "python3 -m venv venv\n",
    "pip3 install -r requirements.txt\n",
    "```\n",
    "\n",
    "#### 1. Setting up the database\n",
    "\n",
    "Ok, next it's time to read in the data and embed it in a vector database.  Move into the llm directory and run the following.\n",
    "\n",
    "* In the `db.py` file fill in the api key for `openai`.  Then run the following:\n",
    "\n",
    "```\n",
    "python3 -i setup.py\n",
    "```\n"
   ]
  },
  {
   "cell_type": "markdown",
   "id": "d434842b-9090-45f1-a9b3-f12ac9f21e40",
   "metadata": {},
   "source": [
    "If you open up the `llm` folder, you can see what this does."
   ]
  },
  {
   "cell_type": "markdown",
   "id": "1aaee07e-007e-41fa-9152-57a0b6497759",
   "metadata": {},
   "source": [
    "* `load_data`\n",
    "    * Readings data from the `data` folder, then then VectorStoreIndex chunks the data, and embeds the chunks, and stores in an index\n",
    "\n",
    "* `persist_data`\n",
    "    * This stores the data in a folder called storage\n",
    "    \n",
    "You should see the `storage` folder in the codebase after running the `setup.py`\n",
    "\n",
    "If you want, you can see that you can begin to query the database with the two lines at the bottom of the index.py file."
   ]
  },
  {
   "cell_type": "markdown",
   "id": "899317ba-1a1b-457c-b463-48bacf6777b9",
   "metadata": {},
   "source": [
    "```python\n",
    "# query_engine = index.as_query_engine()\n",
    "# query_engine.query(\"How did uber perform in 2021?\")\n",
    "```"
   ]
  },
  {
   "cell_type": "markdown",
   "id": "f0e9838a-3553-4a0e-9cc8-30fd794d222a",
   "metadata": {},
   "source": [
    "#### 2. Running the streamlit app"
   ]
  },
  {
   "cell_type": "markdown",
   "id": "414d9ef5-85bf-47ce-9a52-37e138467d02",
   "metadata": {},
   "source": [
    "Next you can run the streamlit app by moving into the dashboard folder.  And then run:\n",
    "\n",
    "```bash\n",
    "streamlit run app.py\n",
    "```"
   ]
  },
  {
   "cell_type": "markdown",
   "id": "cde73cce-f493-4696-a74f-3d6f99f036b0",
   "metadata": {},
   "source": [
    "Now if you want to see how this works, begin by looking at the `streamlit_state` file.\n",
    "\n",
    "```python\n",
    "def assign_chat_engine(st):\n",
    "    if \"chat_engine\" not in st.session_state.keys():\n",
    "        index = load_from_db()\n",
    "        st.session_state.chat_engine = index.as_query_engine()\n",
    "```\n",
    "\n",
    "* `st.session_state` is just a dictionary that allows us to store and retrieve data. So we first call `load_from_db`, which loads from our `storage` data store and returns the index.  Then we assign the query_engine so st.session_state to store the query_engine on streamlit.  \n",
    "\n",
    "* assign_messages\n",
    "\n",
    "```python\n",
    "def assign_messages(st):\n",
    "    content = \"Ask me a question about Uber or Lyft in 2021!\"\n",
    "    if \"messages\" not in st.session_state.keys(): \n",
    "        st.session_state.messages = [\n",
    "            {\"role\": \"assistant\", \"content\": content}\n",
    "        ]\n",
    "```\n",
    "\n",
    "* On `session_state`, we also set a new attribute of a list of messages.  The `messages` attribute is where we will store the user's questions and the llm's responses.\n",
    "\n",
    "#### Moving to app.py\n",
    "\n",
    "* If you look at the `app.py` file you'll see additional functions.\n",
    "* `assign_chat_engine` and `assign_messages` calls those initial functions to store the query_engine and an initial message.\n",
    "\n",
    "* set_title - This just writes an initial title\n",
    "* `prompt = display_chatbox_and_store_questions(st)` - This is the chat prompt, and what the user enters is stored on the messages.\n",
    "\n",
    "* `display_message_history` - retrieves the user and system responses as messages, and displays each of them below\n",
    "\n",
    "* `submit_prompt_display_result`\n",
    "This takes in the prompt, and submits it to the stored chat engine.  We then write out the response.\n",
    "\n",
    "```python\n",
    "response = st.session_state.chat_engine.query(prompt)\n",
    "st.write(response.response)\n",
    "```"
   ]
  }
 ],
 "metadata": {
  "kernelspec": {
   "display_name": "Python 3 (ipykernel)",
   "language": "python",
   "name": "python3"
  },
  "language_info": {
   "codemirror_mode": {
    "name": "ipython",
    "version": 3
   },
   "file_extension": ".py",
   "mimetype": "text/x-python",
   "name": "python",
   "nbconvert_exporter": "python",
   "pygments_lexer": "ipython3",
   "version": "3.10.13"
  }
 },
 "nbformat": 4,
 "nbformat_minor": 5
}
